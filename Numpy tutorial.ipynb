{
 "cells": [
  {
   "cell_type": "markdown",
   "id": "367b2b07",
   "metadata": {},
   "source": [
    "### What is numpy?\n",
    "\n",
    "* 1. Numpy (Numerical Python) is an open source python library.\n",
    "* 2. The numpy library contains multidimensional array and matrix data structures.\n",
    "* 3. It provides nd-array, a homogeneous n-dimensional array object, with methods to efficiently operate on it. \n",
    "* 4. Numpy can be used to perform a wide variety of mathematical operations on arrays.\n"
   ]
  },
  {
   "cell_type": "markdown",
   "id": "615cf1b8",
   "metadata": {},
   "source": [
    "### How to install numpy?\n",
    "\n",
    "* 1. conda install numpy\n",
    "* 2. pip install numpy"
   ]
  },
  {
   "cell_type": "markdown",
   "id": "1b9b8c33",
   "metadata": {},
   "source": [
    "### What’s the difference between a python list and a numpy array?*\n",
    "\n",
    "* 1. Numpy gives you an enormous range of fast and efficient ways of creating arrays and manipulating numerical data inside them.\n",
    "\n",
    "* 2. While a python list can contain different data types within a single list, all of the elements in a numpy array should be homogeneous.\n",
    "* 3. List is an in-built data structure, whereas, for an array, we need to import it from the array or numpy package."
   ]
  },
  {
   "cell_type": "markdown",
   "id": "8dac475f",
   "metadata": {},
   "source": [
    "### Why use numpy not list?\n",
    "\n",
    "* 1. Numpy arrays are faster and more compact than python lists.\n",
    "* 2. An array consumes less memory and is convenient to use. "
   ]
  },
  {
   "cell_type": "code",
   "execution_count": 1,
   "id": "91c5a9a3",
   "metadata": {},
   "outputs": [
    {
     "data": {
      "text/plain": [
       "array([1, 2, 3, 4, 5])"
      ]
     },
     "execution_count": 1,
     "metadata": {},
     "output_type": "execute_result"
    }
   ],
   "source": [
    "import numpy as np\n",
    "\n",
    "a = np.array([1,2,3,4,5])\n",
    "a"
   ]
  },
  {
   "cell_type": "code",
   "execution_count": 2,
   "id": "bd38727a",
   "metadata": {},
   "outputs": [
    {
     "data": {
      "text/plain": [
       "(5,)"
      ]
     },
     "execution_count": 2,
     "metadata": {},
     "output_type": "execute_result"
    }
   ],
   "source": [
    "a.shape"
   ]
  },
  {
   "cell_type": "code",
   "execution_count": 3,
   "id": "4bf0c5b7",
   "metadata": {},
   "outputs": [
    {
     "data": {
      "text/plain": [
       "5"
      ]
     },
     "execution_count": 3,
     "metadata": {},
     "output_type": "execute_result"
    }
   ],
   "source": [
    "a.size"
   ]
  },
  {
   "cell_type": "code",
   "execution_count": 4,
   "id": "52698f11",
   "metadata": {},
   "outputs": [
    {
     "data": {
      "text/plain": [
       "1"
      ]
     },
     "execution_count": 4,
     "metadata": {},
     "output_type": "execute_result"
    }
   ],
   "source": [
    "a.ndim"
   ]
  },
  {
   "cell_type": "markdown",
   "id": "345e8a7b",
   "metadata": {},
   "source": [
    "### Diffrent types of array\n",
    "\n",
    "* 1D array\n",
    "* 2D array\n",
    "* 3D array"
   ]
  },
  {
   "cell_type": "code",
   "execution_count": 5,
   "id": "9c61b3c0",
   "metadata": {},
   "outputs": [
    {
     "data": {
      "text/plain": [
       "array([11, 12, 13])"
      ]
     },
     "execution_count": 5,
     "metadata": {},
     "output_type": "execute_result"
    }
   ],
   "source": [
    "#1D array\n",
    "\n",
    "array = np.array([11,12,13])\n",
    "array"
   ]
  },
  {
   "cell_type": "code",
   "execution_count": 6,
   "id": "5f69e9b2",
   "metadata": {},
   "outputs": [
    {
     "data": {
      "text/plain": [
       "1"
      ]
     },
     "execution_count": 6,
     "metadata": {},
     "output_type": "execute_result"
    }
   ],
   "source": [
    "array.ndim"
   ]
  },
  {
   "cell_type": "code",
   "execution_count": 7,
   "id": "ee0682f9",
   "metadata": {},
   "outputs": [
    {
     "data": {
      "text/plain": [
       "array([[11, 12, 13],\n",
       "       [21, 22, 23]])"
      ]
     },
     "execution_count": 7,
     "metadata": {},
     "output_type": "execute_result"
    }
   ],
   "source": [
    "#2D array\n",
    "\n",
    "array = np.array([[11,12,13],[21,22,23]])\n",
    "array"
   ]
  },
  {
   "cell_type": "code",
   "execution_count": 8,
   "id": "e7372229",
   "metadata": {},
   "outputs": [
    {
     "data": {
      "text/plain": [
       "2"
      ]
     },
     "execution_count": 8,
     "metadata": {},
     "output_type": "execute_result"
    }
   ],
   "source": [
    "array.ndim"
   ]
  },
  {
   "cell_type": "code",
   "execution_count": 9,
   "id": "d024a535",
   "metadata": {},
   "outputs": [
    {
     "data": {
      "text/plain": [
       "array([[[11, 12, 13],\n",
       "        [21, 22, 23]],\n",
       "\n",
       "       [[31, 32, 33],\n",
       "        [41, 42, 43]]])"
      ]
     },
     "execution_count": 9,
     "metadata": {},
     "output_type": "execute_result"
    }
   ],
   "source": [
    "#3D array \n",
    "\n",
    "array = np.array([[[11,12,13],[21,22,23]],[[31,32,33],[41,42,43]]])\n",
    "array"
   ]
  },
  {
   "cell_type": "code",
   "execution_count": 10,
   "id": "8f6c2160",
   "metadata": {},
   "outputs": [
    {
     "data": {
      "text/plain": [
       "3"
      ]
     },
     "execution_count": 10,
     "metadata": {},
     "output_type": "execute_result"
    }
   ],
   "source": [
    "array.ndim"
   ]
  },
  {
   "cell_type": "markdown",
   "id": "56c1bbaa",
   "metadata": {},
   "source": [
    "### Diffrent way to create arrays\n"
   ]
  },
  {
   "cell_type": "code",
   "execution_count": 11,
   "id": "aeeca191",
   "metadata": {},
   "outputs": [
    {
     "data": {
      "text/plain": [
       "array([[0., 0., 0.],\n",
       "       [0., 0., 0.],\n",
       "       [0., 0., 0.]])"
      ]
     },
     "execution_count": 11,
     "metadata": {},
     "output_type": "execute_result"
    }
   ],
   "source": [
    "#zeros\n",
    "\n",
    "a = np.zeros((3,3))\n",
    "a"
   ]
  },
  {
   "cell_type": "code",
   "execution_count": 12,
   "id": "bea4d7fc",
   "metadata": {},
   "outputs": [
    {
     "data": {
      "text/plain": [
       "array([[1., 1., 1., 1.],\n",
       "       [1., 1., 1., 1.],\n",
       "       [1., 1., 1., 1.],\n",
       "       [1., 1., 1., 1.]])"
      ]
     },
     "execution_count": 12,
     "metadata": {},
     "output_type": "execute_result"
    }
   ],
   "source": [
    "#ones\n",
    "\n",
    "a = np.ones((4,4))\n",
    "a"
   ]
  },
  {
   "cell_type": "code",
   "execution_count": 13,
   "id": "65ac39d7",
   "metadata": {},
   "outputs": [
    {
     "data": {
      "text/plain": [
       "array([[1.01690074e-311, 2.47032823e-322, 0.00000000e+000,\n",
       "        0.00000000e+000],\n",
       "       [1.12465777e-312, 6.82116729e-043, 6.56446035e-091,\n",
       "        5.64053561e-062],\n",
       "       [8.31989567e-072, 3.34868728e-061, 3.99910963e+252,\n",
       "        1.82960278e+184]])"
      ]
     },
     "execution_count": 13,
     "metadata": {},
     "output_type": "execute_result"
    }
   ],
   "source": [
    "#empty\n",
    "\n",
    "a = np.empty((3,4))\n",
    "a"
   ]
  },
  {
   "cell_type": "code",
   "execution_count": 14,
   "id": "cc333fe6",
   "metadata": {},
   "outputs": [
    {
     "data": {
      "text/plain": [
       "array([0, 1, 2, 3, 4])"
      ]
     },
     "execution_count": 14,
     "metadata": {},
     "output_type": "execute_result"
    }
   ],
   "source": [
    "#arrange\n",
    "\n",
    "a = np.arange(5)\n",
    "a"
   ]
  },
  {
   "cell_type": "code",
   "execution_count": 15,
   "id": "66ef3eb1",
   "metadata": {},
   "outputs": [
    {
     "data": {
      "text/plain": [
       "array([[1., 0., 0.],\n",
       "       [0., 1., 0.],\n",
       "       [0., 0., 1.]])"
      ]
     },
     "execution_count": 15,
     "metadata": {},
     "output_type": "execute_result"
    }
   ],
   "source": [
    "#identity \n",
    "\n",
    "x = np.identity(3)\n",
    "x"
   ]
  },
  {
   "cell_type": "code",
   "execution_count": 16,
   "id": "c1ec17a3",
   "metadata": {},
   "outputs": [
    {
     "data": {
      "text/plain": [
       "array([[3., 3., 3., 3.],\n",
       "       [3., 3., 3., 3.],\n",
       "       [3., 3., 3., 3.]])"
      ]
     },
     "execution_count": 16,
     "metadata": {},
     "output_type": "execute_result"
    }
   ],
   "source": [
    "#fill\n",
    "\n",
    "z = np.empty((3,4))\n",
    "z.fill(3)\n",
    "z"
   ]
  },
  {
   "cell_type": "markdown",
   "id": "4d91069b",
   "metadata": {},
   "source": [
    "### Indexing"
   ]
  },
  {
   "cell_type": "code",
   "execution_count": 17,
   "id": "f03ad37c",
   "metadata": {},
   "outputs": [
    {
     "data": {
      "text/plain": [
       "array([1, 2, 3, 4, 5])"
      ]
     },
     "execution_count": 17,
     "metadata": {},
     "output_type": "execute_result"
    }
   ],
   "source": [
    "#1D array\n",
    "\n",
    "array = np.array([1,2,3,4,5])\n",
    "array"
   ]
  },
  {
   "cell_type": "code",
   "execution_count": 18,
   "id": "3830321d",
   "metadata": {},
   "outputs": [
    {
     "name": "stdout",
     "output_type": "stream",
     "text": [
      "5\n"
     ]
    }
   ],
   "source": [
    "#if we want to print 5 then...\n",
    "\n",
    "print(array[4]) #indexing starting from 0 hence we got input 3..."
   ]
  },
  {
   "cell_type": "code",
   "execution_count": 19,
   "id": "06c4c5b8",
   "metadata": {},
   "outputs": [
    {
     "name": "stdout",
     "output_type": "stream",
     "text": [
      "2\n"
     ]
    }
   ],
   "source": [
    "#if we want to print 2 then...\n",
    "\n",
    "print(array[1])"
   ]
  },
  {
   "cell_type": "code",
   "execution_count": 20,
   "id": "ebe2bd3c",
   "metadata": {},
   "outputs": [
    {
     "data": {
      "text/plain": [
       "array([[11, 12, 13, 14],\n",
       "       [21, 22, 23, 24]])"
      ]
     },
     "execution_count": 20,
     "metadata": {},
     "output_type": "execute_result"
    }
   ],
   "source": [
    "#2D array\n",
    "\n",
    "arr = np.array([[11,12,13,14],[21,22,23,24]])\n",
    "arr"
   ]
  },
  {
   "cell_type": "code",
   "execution_count": 21,
   "id": "312117b8",
   "metadata": {},
   "outputs": [
    {
     "name": "stdout",
     "output_type": "stream",
     "text": [
      "13\n"
     ]
    }
   ],
   "source": [
    "#if we want to print 13 then...\n",
    "\n",
    "print(arr[0,2])"
   ]
  },
  {
   "cell_type": "code",
   "execution_count": 22,
   "id": "389e65b6",
   "metadata": {},
   "outputs": [
    {
     "name": "stdout",
     "output_type": "stream",
     "text": [
      "21\n"
     ]
    }
   ],
   "source": [
    "#if we want to print 21 then...\n",
    "\n",
    "print(arr[1,0])"
   ]
  },
  {
   "cell_type": "code",
   "execution_count": 23,
   "id": "5ed2ec9f",
   "metadata": {},
   "outputs": [
    {
     "name": "stdout",
     "output_type": "stream",
     "text": [
      "22\n"
     ]
    }
   ],
   "source": [
    "#if we want to print 22 then...\n",
    "\n",
    "print(arr[1,1])"
   ]
  },
  {
   "cell_type": "code",
   "execution_count": 24,
   "id": "2a932ecc",
   "metadata": {},
   "outputs": [
    {
     "data": {
      "text/plain": [
       "array([[[11, 12, 13, 14],\n",
       "        [21, 22, 23, 24]],\n",
       "\n",
       "       [[31, 32, 33, 34],\n",
       "        [41, 42, 43, 44]]])"
      ]
     },
     "execution_count": 24,
     "metadata": {},
     "output_type": "execute_result"
    }
   ],
   "source": [
    "#3D array\n",
    "\n",
    "ar = np.array([[[11,12,13,14],[21,22,23,24]],[[31,32,33,34],[41,42,43,44]]])\n",
    "ar"
   ]
  },
  {
   "cell_type": "code",
   "execution_count": 25,
   "id": "34877c55",
   "metadata": {},
   "outputs": [
    {
     "name": "stdout",
     "output_type": "stream",
     "text": [
      "42\n"
     ]
    }
   ],
   "source": [
    "#if we want to print 42...\n",
    "\n",
    "print(ar[1,1,1])"
   ]
  },
  {
   "cell_type": "markdown",
   "id": "af75e453",
   "metadata": {},
   "source": [
    "### Slicing of index "
   ]
  },
  {
   "cell_type": "code",
   "execution_count": 26,
   "id": "95ca4d54",
   "metadata": {},
   "outputs": [
    {
     "name": "stdout",
     "output_type": "stream",
     "text": [
      "[42 43]\n"
     ]
    }
   ],
   "source": [
    "#if we want to print [42,43] then...\n",
    "\n",
    "print(ar[1,1,1:3])"
   ]
  },
  {
   "cell_type": "code",
   "execution_count": 27,
   "id": "6f474ec1",
   "metadata": {},
   "outputs": [
    {
     "name": "stdout",
     "output_type": "stream",
     "text": [
      "[22 23 24]\n"
     ]
    }
   ],
   "source": [
    "#if we want to print [22,23,24] then...\n",
    "\n",
    "print(ar[0,1,1:4])"
   ]
  },
  {
   "cell_type": "code",
   "execution_count": 28,
   "id": "002a4f92",
   "metadata": {},
   "outputs": [
    {
     "name": "stdout",
     "output_type": "stream",
     "text": [
      "[31 32 33 34]\n"
     ]
    }
   ],
   "source": [
    "#if we want to print [31,32,33,34] then...\n",
    "\n",
    "print(ar[1,0])"
   ]
  },
  {
   "cell_type": "code",
   "execution_count": 29,
   "id": "8ccccbf1",
   "metadata": {},
   "outputs": [
    {
     "name": "stdout",
     "output_type": "stream",
     "text": [
      "[2 3 4 5]\n"
     ]
    }
   ],
   "source": [
    "#1D array\n",
    "\n",
    "arr = np.array([1, 2, 3, 4, 5, 6, 7])\n",
    "\n",
    "print(arr[1:5]) #(start:end)"
   ]
  },
  {
   "cell_type": "code",
   "execution_count": 30,
   "id": "b7c8af9f",
   "metadata": {},
   "outputs": [
    {
     "name": "stdout",
     "output_type": "stream",
     "text": [
      "[13 14 15]\n"
     ]
    }
   ],
   "source": [
    "arr1 = np.array([11,12,13,14,15])\n",
    "\n",
    "print(arr1[2:5])"
   ]
  },
  {
   "cell_type": "code",
   "execution_count": 31,
   "id": "d2208824",
   "metadata": {},
   "outputs": [
    {
     "name": "stdout",
     "output_type": "stream",
     "text": [
      "[7 8 9]\n"
     ]
    }
   ],
   "source": [
    "#2D array\n",
    "\n",
    "arr = np.array([[1, 2, 3, 4, 5], [6, 7, 8, 9, 10]])\n",
    "\n",
    "print(arr[1, 1:4])"
   ]
  },
  {
   "cell_type": "code",
   "execution_count": 32,
   "id": "b2d97fa5",
   "metadata": {},
   "outputs": [
    {
     "name": "stdout",
     "output_type": "stream",
     "text": [
      "[11 12]\n"
     ]
    }
   ],
   "source": [
    "arr1 = np.array([[11,12,13,],[21,22,23]])\n",
    "\n",
    "print(arr1[0,0:2])"
   ]
  },
  {
   "cell_type": "markdown",
   "id": "4b3ec1ea",
   "metadata": {},
   "source": [
    "### Sorting, Adding & Spliting index"
   ]
  },
  {
   "cell_type": "code",
   "execution_count": 33,
   "id": "128d2d73",
   "metadata": {},
   "outputs": [
    {
     "name": "stdout",
     "output_type": "stream",
     "text": [
      "[1 2 3 4]\n"
     ]
    }
   ],
   "source": [
    "#Sorting index\n",
    "\n",
    "a = np.array([4,2,3,1])\n",
    "a.sort()\n",
    "print(a)"
   ]
  },
  {
   "cell_type": "code",
   "execution_count": 34,
   "id": "3ca81ec1",
   "metadata": {},
   "outputs": [
    {
     "name": "stdout",
     "output_type": "stream",
     "text": [
      "[[11 13 14 15]\n",
      " [21 24 33 45]]\n"
     ]
    }
   ],
   "source": [
    "b = np.array([[11,13,15,14],[24,21,33,45]])\n",
    "b.sort()\n",
    "print(b)"
   ]
  },
  {
   "cell_type": "code",
   "execution_count": 35,
   "id": "f042eaa9",
   "metadata": {},
   "outputs": [
    {
     "name": "stdout",
     "output_type": "stream",
     "text": [
      "['apple' 'banana' 'cherry']\n"
     ]
    }
   ],
   "source": [
    "arr = np.array(['banana', 'cherry', 'apple'])\n",
    "arr.sort()\n",
    "print(arr)"
   ]
  },
  {
   "cell_type": "code",
   "execution_count": 36,
   "id": "34c5f908",
   "metadata": {},
   "outputs": [],
   "source": [
    "#Adding index\n",
    "\n",
    "a1 = np.array([1,3,5,7])\n",
    "a2 = np.array([5,7,9,11])\n"
   ]
  },
  {
   "cell_type": "code",
   "execution_count": 37,
   "id": "7cd76a0d",
   "metadata": {},
   "outputs": [
    {
     "data": {
      "text/plain": [
       "array([ 1,  3,  5,  7,  5,  7,  9, 11])"
      ]
     },
     "execution_count": 37,
     "metadata": {},
     "output_type": "execute_result"
    }
   ],
   "source": [
    "a3 = np.concatenate((a1, a2))\n",
    "a3"
   ]
  },
  {
   "cell_type": "code",
   "execution_count": 38,
   "id": "4b7200b4",
   "metadata": {},
   "outputs": [
    {
     "data": {
      "text/plain": [
       "array([[1, 2, 3],\n",
       "       [4, 5, 6],\n",
       "       [3, 2, 1],\n",
       "       [6, 5, 4]])"
      ]
     },
     "execution_count": 38,
     "metadata": {},
     "output_type": "execute_result"
    }
   ],
   "source": [
    "b1 = np.array([[1,2,3],[4,5,6]])\n",
    "b2 = np.array([[3,2,1],[6,5,4]])\n",
    "\n",
    "b3 = np.concatenate((b1, b2))\n",
    "b3"
   ]
  },
  {
   "cell_type": "code",
   "execution_count": 39,
   "id": "89bf24ca",
   "metadata": {},
   "outputs": [
    {
     "data": {
      "text/plain": [
       "[array([1, 2]), array([3, 4]), array([5, 6]), array([7, 8])]"
      ]
     },
     "execution_count": 39,
     "metadata": {},
     "output_type": "execute_result"
    }
   ],
   "source": [
    "#Spliting index\n",
    "\n",
    "x = np.array([1,2,3,4,5,6,7,8])\n",
    "\n",
    "x1 = np.array_split(x, 4)\n",
    "x1"
   ]
  },
  {
   "cell_type": "markdown",
   "id": "8ad7674a",
   "metadata": {},
   "source": [
    "### Reshape index"
   ]
  },
  {
   "cell_type": "code",
   "execution_count": 40,
   "id": "65ca44f3",
   "metadata": {},
   "outputs": [
    {
     "data": {
      "text/plain": [
       "array([0, 1, 2, 3, 4, 5, 6, 7, 8])"
      ]
     },
     "execution_count": 40,
     "metadata": {},
     "output_type": "execute_result"
    }
   ],
   "source": [
    "aa = np.arange(9)\n",
    "aa"
   ]
  },
  {
   "cell_type": "code",
   "execution_count": 41,
   "id": "c137b8b3",
   "metadata": {},
   "outputs": [
    {
     "data": {
      "text/plain": [
       "array([[0, 1, 2],\n",
       "       [3, 4, 5],\n",
       "       [6, 7, 8]])"
      ]
     },
     "execution_count": 41,
     "metadata": {},
     "output_type": "execute_result"
    }
   ],
   "source": [
    "aa1 = aa.reshape(3,3)\n",
    "aa1"
   ]
  },
  {
   "cell_type": "code",
   "execution_count": 48,
   "id": "100fae26",
   "metadata": {},
   "outputs": [
    {
     "name": "stdout",
     "output_type": "stream",
     "text": [
      "[[[ 1  2]\n",
      "  [ 3  4]\n",
      "  [ 5  6]]\n",
      "\n",
      " [[ 7  8]\n",
      "  [ 9 10]\n",
      "  [11 12]]]\n"
     ]
    }
   ],
   "source": [
    "arr = np.array([1, 2, 3, 4, 5, 6, 7, 8, 9, 10, 11, 12])\n",
    "\n",
    "newarr = arr.reshape(2, 3, 2)\n",
    "\n",
    "print(newarr)"
   ]
  },
  {
   "cell_type": "markdown",
   "id": "d3cd5fc8",
   "metadata": {},
   "source": [
    "### Numpy Copy and View"
   ]
  },
  {
   "cell_type": "code",
   "execution_count": 42,
   "id": "4e2d837b",
   "metadata": {},
   "outputs": [
    {
     "name": "stdout",
     "output_type": "stream",
     "text": [
      "[42  2  3  4  5]\n",
      "[1 2 3 4 5]\n"
     ]
    }
   ],
   "source": [
    "arr = np.array([1, 2, 3, 4, 5]) #Copy function used to replce value by index without replacing orignal...\n",
    "x = arr.copy()\n",
    "arr[0] = 42\n",
    "\n",
    "print(arr)\n",
    "print(x)"
   ]
  },
  {
   "cell_type": "code",
   "execution_count": 45,
   "id": "59d0d254",
   "metadata": {},
   "outputs": [
    {
     "name": "stdout",
     "output_type": "stream",
     "text": [
      "[42  2  3  4  5]\n",
      "[42  2  3  4  5]\n"
     ]
    }
   ],
   "source": [
    "arr1 = np.array([1, 2, 3, 4, 5])#View function used to replce value by index with replacing orignal...\n",
    "x = arr1.view()\n",
    "arr1[0] = 42\n",
    "\n",
    "print(arr1)\n",
    "print(x)"
   ]
  },
  {
   "cell_type": "code",
   "execution_count": 46,
   "id": "12590411",
   "metadata": {},
   "outputs": [
    {
     "name": "stdout",
     "output_type": "stream",
     "text": [
      "[11 22 33 44 55]\n",
      "[11 22 13 44 55]\n"
     ]
    }
   ],
   "source": [
    "arr2 = np.array([11,22,13,44,55])\n",
    "x = arr2.copy()\n",
    "arr2[2] = 33\n",
    "print(arr2)\n",
    "print(x)"
   ]
  },
  {
   "cell_type": "code",
   "execution_count": 47,
   "id": "ae139439",
   "metadata": {},
   "outputs": [
    {
     "name": "stdout",
     "output_type": "stream",
     "text": [
      "[11 22 33 44 55]\n",
      "[11 22 33 44 55]\n"
     ]
    }
   ],
   "source": [
    "arr3 = np.array([11,22,13,44,55])\n",
    "x = arr3.view()\n",
    "arr3[2] = 33\n",
    "print(arr3)\n",
    "print(x)"
   ]
  },
  {
   "cell_type": "markdown",
   "id": "97b62993",
   "metadata": {},
   "source": [
    "### Numpy searching array"
   ]
  },
  {
   "cell_type": "code",
   "execution_count": 49,
   "id": "3a3debaa",
   "metadata": {},
   "outputs": [
    {
     "name": "stdout",
     "output_type": "stream",
     "text": [
      "(array([3, 5, 6], dtype=int64),)\n"
     ]
    }
   ],
   "source": [
    "arr = np.array([1, 2, 3, 4, 5, 4, 4])\n",
    "\n",
    "x = np.where(arr == 4)\n",
    "\n",
    "print(x)"
   ]
  },
  {
   "cell_type": "code",
   "execution_count": 50,
   "id": "795f45e5",
   "metadata": {},
   "outputs": [
    {
     "name": "stdout",
     "output_type": "stream",
     "text": [
      "(array([1, 3, 5, 7], dtype=int64),)\n"
     ]
    }
   ],
   "source": [
    "arr = np.array([1, 2, 3, 4, 5, 6, 7, 8])\n",
    "\n",
    "x = np.where(arr%2 == 0) #odd number\n",
    "\n",
    "print(x)"
   ]
  },
  {
   "cell_type": "code",
   "execution_count": 51,
   "id": "5b0be8f3",
   "metadata": {},
   "outputs": [
    {
     "name": "stdout",
     "output_type": "stream",
     "text": [
      "(array([0, 2, 4, 6], dtype=int64),)\n"
     ]
    }
   ],
   "source": [
    "arr = np.array([1, 2, 3, 4, 5, 6, 7, 8])\n",
    "\n",
    "x = np.where(arr%2 == 1) #even number\n",
    "\n",
    "print(x)"
   ]
  },
  {
   "cell_type": "code",
   "execution_count": 54,
   "id": "475df5f5",
   "metadata": {},
   "outputs": [
    {
     "data": {
      "text/plain": [
       "array([[64, 44, 85, 34, 41],\n",
       "       [31, 56, 45, 64, 95],\n",
       "       [45, 20, 64, 42, 74],\n",
       "       [81, 15, 43, 82, 87],\n",
       "       [77, 75, 95, 43, 91],\n",
       "       [92, 52, 37, 87, 87],\n",
       "       [30, 87, 74, 64, 13],\n",
       "       [36, 78, 56, 86, 68],\n",
       "       [24, 42, 96, 90, 29],\n",
       "       [16, 64, 80, 11, 12],\n",
       "       [62, 41, 85, 48, 42],\n",
       "       [85, 20, 56, 34, 63],\n",
       "       [40, 51, 16, 97, 52],\n",
       "       [83, 88, 81, 12, 48],\n",
       "       [ 4, 26, 28, 13, 92],\n",
       "       [59, 68, 19, 28, 11],\n",
       "       [89, 58, 19, 86, 88],\n",
       "       [85, 62, 41,  8, 33],\n",
       "       [63, 13,  7, 29, 76],\n",
       "       [12, 10, 30,  2,  3]])"
      ]
     },
     "execution_count": 54,
     "metadata": {},
     "output_type": "execute_result"
    }
   ],
   "source": [
    "import random \n",
    "a = np.random.randint(100,size=(100))\n",
    "a_re = a.reshape(20,5)\n",
    "a_re"
   ]
  },
  {
   "cell_type": "code",
   "execution_count": 55,
   "id": "8d70d606",
   "metadata": {},
   "outputs": [
    {
     "data": {
      "text/html": [
       "<div>\n",
       "<style scoped>\n",
       "    .dataframe tbody tr th:only-of-type {\n",
       "        vertical-align: middle;\n",
       "    }\n",
       "\n",
       "    .dataframe tbody tr th {\n",
       "        vertical-align: top;\n",
       "    }\n",
       "\n",
       "    .dataframe thead th {\n",
       "        text-align: right;\n",
       "    }\n",
       "</style>\n",
       "<table border=\"1\" class=\"dataframe\">\n",
       "  <thead>\n",
       "    <tr style=\"text-align: right;\">\n",
       "      <th></th>\n",
       "      <th>A</th>\n",
       "      <th>B</th>\n",
       "      <th>C</th>\n",
       "      <th>D</th>\n",
       "      <th>E</th>\n",
       "    </tr>\n",
       "  </thead>\n",
       "  <tbody>\n",
       "    <tr>\n",
       "      <th>0</th>\n",
       "      <td>64</td>\n",
       "      <td>44</td>\n",
       "      <td>85</td>\n",
       "      <td>34</td>\n",
       "      <td>41</td>\n",
       "    </tr>\n",
       "    <tr>\n",
       "      <th>1</th>\n",
       "      <td>31</td>\n",
       "      <td>56</td>\n",
       "      <td>45</td>\n",
       "      <td>64</td>\n",
       "      <td>95</td>\n",
       "    </tr>\n",
       "    <tr>\n",
       "      <th>2</th>\n",
       "      <td>45</td>\n",
       "      <td>20</td>\n",
       "      <td>64</td>\n",
       "      <td>42</td>\n",
       "      <td>74</td>\n",
       "    </tr>\n",
       "    <tr>\n",
       "      <th>3</th>\n",
       "      <td>81</td>\n",
       "      <td>15</td>\n",
       "      <td>43</td>\n",
       "      <td>82</td>\n",
       "      <td>87</td>\n",
       "    </tr>\n",
       "    <tr>\n",
       "      <th>4</th>\n",
       "      <td>77</td>\n",
       "      <td>75</td>\n",
       "      <td>95</td>\n",
       "      <td>43</td>\n",
       "      <td>91</td>\n",
       "    </tr>\n",
       "    <tr>\n",
       "      <th>5</th>\n",
       "      <td>92</td>\n",
       "      <td>52</td>\n",
       "      <td>37</td>\n",
       "      <td>87</td>\n",
       "      <td>87</td>\n",
       "    </tr>\n",
       "    <tr>\n",
       "      <th>6</th>\n",
       "      <td>30</td>\n",
       "      <td>87</td>\n",
       "      <td>74</td>\n",
       "      <td>64</td>\n",
       "      <td>13</td>\n",
       "    </tr>\n",
       "    <tr>\n",
       "      <th>7</th>\n",
       "      <td>36</td>\n",
       "      <td>78</td>\n",
       "      <td>56</td>\n",
       "      <td>86</td>\n",
       "      <td>68</td>\n",
       "    </tr>\n",
       "    <tr>\n",
       "      <th>8</th>\n",
       "      <td>24</td>\n",
       "      <td>42</td>\n",
       "      <td>96</td>\n",
       "      <td>90</td>\n",
       "      <td>29</td>\n",
       "    </tr>\n",
       "    <tr>\n",
       "      <th>9</th>\n",
       "      <td>16</td>\n",
       "      <td>64</td>\n",
       "      <td>80</td>\n",
       "      <td>11</td>\n",
       "      <td>12</td>\n",
       "    </tr>\n",
       "    <tr>\n",
       "      <th>10</th>\n",
       "      <td>62</td>\n",
       "      <td>41</td>\n",
       "      <td>85</td>\n",
       "      <td>48</td>\n",
       "      <td>42</td>\n",
       "    </tr>\n",
       "    <tr>\n",
       "      <th>11</th>\n",
       "      <td>85</td>\n",
       "      <td>20</td>\n",
       "      <td>56</td>\n",
       "      <td>34</td>\n",
       "      <td>63</td>\n",
       "    </tr>\n",
       "    <tr>\n",
       "      <th>12</th>\n",
       "      <td>40</td>\n",
       "      <td>51</td>\n",
       "      <td>16</td>\n",
       "      <td>97</td>\n",
       "      <td>52</td>\n",
       "    </tr>\n",
       "    <tr>\n",
       "      <th>13</th>\n",
       "      <td>83</td>\n",
       "      <td>88</td>\n",
       "      <td>81</td>\n",
       "      <td>12</td>\n",
       "      <td>48</td>\n",
       "    </tr>\n",
       "    <tr>\n",
       "      <th>14</th>\n",
       "      <td>4</td>\n",
       "      <td>26</td>\n",
       "      <td>28</td>\n",
       "      <td>13</td>\n",
       "      <td>92</td>\n",
       "    </tr>\n",
       "    <tr>\n",
       "      <th>15</th>\n",
       "      <td>59</td>\n",
       "      <td>68</td>\n",
       "      <td>19</td>\n",
       "      <td>28</td>\n",
       "      <td>11</td>\n",
       "    </tr>\n",
       "    <tr>\n",
       "      <th>16</th>\n",
       "      <td>89</td>\n",
       "      <td>58</td>\n",
       "      <td>19</td>\n",
       "      <td>86</td>\n",
       "      <td>88</td>\n",
       "    </tr>\n",
       "    <tr>\n",
       "      <th>17</th>\n",
       "      <td>85</td>\n",
       "      <td>62</td>\n",
       "      <td>41</td>\n",
       "      <td>8</td>\n",
       "      <td>33</td>\n",
       "    </tr>\n",
       "    <tr>\n",
       "      <th>18</th>\n",
       "      <td>63</td>\n",
       "      <td>13</td>\n",
       "      <td>7</td>\n",
       "      <td>29</td>\n",
       "      <td>76</td>\n",
       "    </tr>\n",
       "    <tr>\n",
       "      <th>19</th>\n",
       "      <td>12</td>\n",
       "      <td>10</td>\n",
       "      <td>30</td>\n",
       "      <td>2</td>\n",
       "      <td>3</td>\n",
       "    </tr>\n",
       "  </tbody>\n",
       "</table>\n",
       "</div>"
      ],
      "text/plain": [
       "     A   B   C   D   E\n",
       "0   64  44  85  34  41\n",
       "1   31  56  45  64  95\n",
       "2   45  20  64  42  74\n",
       "3   81  15  43  82  87\n",
       "4   77  75  95  43  91\n",
       "5   92  52  37  87  87\n",
       "6   30  87  74  64  13\n",
       "7   36  78  56  86  68\n",
       "8   24  42  96  90  29\n",
       "9   16  64  80  11  12\n",
       "10  62  41  85  48  42\n",
       "11  85  20  56  34  63\n",
       "12  40  51  16  97  52\n",
       "13  83  88  81  12  48\n",
       "14   4  26  28  13  92\n",
       "15  59  68  19  28  11\n",
       "16  89  58  19  86  88\n",
       "17  85  62  41   8  33\n",
       "18  63  13   7  29  76\n",
       "19  12  10  30   2   3"
      ]
     },
     "execution_count": 55,
     "metadata": {},
     "output_type": "execute_result"
    }
   ],
   "source": [
    "my_df = pd.DataFrame(a_re,columns=[\"A\",\"B\",\"C\",\"D\",\"E\"])\n",
    "my_df"
   ]
  },
  {
   "cell_type": "code",
   "execution_count": 56,
   "id": "640fd622",
   "metadata": {},
   "outputs": [
    {
     "data": {
      "text/html": [
       "<div>\n",
       "<style scoped>\n",
       "    .dataframe tbody tr th:only-of-type {\n",
       "        vertical-align: middle;\n",
       "    }\n",
       "\n",
       "    .dataframe tbody tr th {\n",
       "        vertical-align: top;\n",
       "    }\n",
       "\n",
       "    .dataframe thead th {\n",
       "        text-align: right;\n",
       "    }\n",
       "</style>\n",
       "<table border=\"1\" class=\"dataframe\">\n",
       "  <thead>\n",
       "    <tr style=\"text-align: right;\">\n",
       "      <th></th>\n",
       "      <th>B</th>\n",
       "      <th>D</th>\n",
       "      <th>C</th>\n",
       "      <th>E</th>\n",
       "      <th>A</th>\n",
       "    </tr>\n",
       "  </thead>\n",
       "  <tbody>\n",
       "    <tr>\n",
       "      <th>0</th>\n",
       "      <td>44</td>\n",
       "      <td>34</td>\n",
       "      <td>85</td>\n",
       "      <td>41</td>\n",
       "      <td>64</td>\n",
       "    </tr>\n",
       "    <tr>\n",
       "      <th>1</th>\n",
       "      <td>56</td>\n",
       "      <td>64</td>\n",
       "      <td>45</td>\n",
       "      <td>95</td>\n",
       "      <td>31</td>\n",
       "    </tr>\n",
       "    <tr>\n",
       "      <th>2</th>\n",
       "      <td>20</td>\n",
       "      <td>42</td>\n",
       "      <td>64</td>\n",
       "      <td>74</td>\n",
       "      <td>45</td>\n",
       "    </tr>\n",
       "    <tr>\n",
       "      <th>3</th>\n",
       "      <td>15</td>\n",
       "      <td>82</td>\n",
       "      <td>43</td>\n",
       "      <td>87</td>\n",
       "      <td>81</td>\n",
       "    </tr>\n",
       "    <tr>\n",
       "      <th>4</th>\n",
       "      <td>75</td>\n",
       "      <td>43</td>\n",
       "      <td>95</td>\n",
       "      <td>91</td>\n",
       "      <td>77</td>\n",
       "    </tr>\n",
       "    <tr>\n",
       "      <th>5</th>\n",
       "      <td>52</td>\n",
       "      <td>87</td>\n",
       "      <td>37</td>\n",
       "      <td>87</td>\n",
       "      <td>92</td>\n",
       "    </tr>\n",
       "    <tr>\n",
       "      <th>6</th>\n",
       "      <td>87</td>\n",
       "      <td>64</td>\n",
       "      <td>74</td>\n",
       "      <td>13</td>\n",
       "      <td>30</td>\n",
       "    </tr>\n",
       "    <tr>\n",
       "      <th>7</th>\n",
       "      <td>78</td>\n",
       "      <td>86</td>\n",
       "      <td>56</td>\n",
       "      <td>68</td>\n",
       "      <td>36</td>\n",
       "    </tr>\n",
       "    <tr>\n",
       "      <th>8</th>\n",
       "      <td>42</td>\n",
       "      <td>90</td>\n",
       "      <td>96</td>\n",
       "      <td>29</td>\n",
       "      <td>24</td>\n",
       "    </tr>\n",
       "    <tr>\n",
       "      <th>9</th>\n",
       "      <td>64</td>\n",
       "      <td>11</td>\n",
       "      <td>80</td>\n",
       "      <td>12</td>\n",
       "      <td>16</td>\n",
       "    </tr>\n",
       "    <tr>\n",
       "      <th>10</th>\n",
       "      <td>41</td>\n",
       "      <td>48</td>\n",
       "      <td>85</td>\n",
       "      <td>42</td>\n",
       "      <td>62</td>\n",
       "    </tr>\n",
       "    <tr>\n",
       "      <th>11</th>\n",
       "      <td>20</td>\n",
       "      <td>34</td>\n",
       "      <td>56</td>\n",
       "      <td>63</td>\n",
       "      <td>85</td>\n",
       "    </tr>\n",
       "    <tr>\n",
       "      <th>12</th>\n",
       "      <td>51</td>\n",
       "      <td>97</td>\n",
       "      <td>16</td>\n",
       "      <td>52</td>\n",
       "      <td>40</td>\n",
       "    </tr>\n",
       "    <tr>\n",
       "      <th>13</th>\n",
       "      <td>88</td>\n",
       "      <td>12</td>\n",
       "      <td>81</td>\n",
       "      <td>48</td>\n",
       "      <td>83</td>\n",
       "    </tr>\n",
       "    <tr>\n",
       "      <th>14</th>\n",
       "      <td>26</td>\n",
       "      <td>13</td>\n",
       "      <td>28</td>\n",
       "      <td>92</td>\n",
       "      <td>4</td>\n",
       "    </tr>\n",
       "    <tr>\n",
       "      <th>15</th>\n",
       "      <td>68</td>\n",
       "      <td>28</td>\n",
       "      <td>19</td>\n",
       "      <td>11</td>\n",
       "      <td>59</td>\n",
       "    </tr>\n",
       "    <tr>\n",
       "      <th>16</th>\n",
       "      <td>58</td>\n",
       "      <td>86</td>\n",
       "      <td>19</td>\n",
       "      <td>88</td>\n",
       "      <td>89</td>\n",
       "    </tr>\n",
       "    <tr>\n",
       "      <th>17</th>\n",
       "      <td>62</td>\n",
       "      <td>8</td>\n",
       "      <td>41</td>\n",
       "      <td>33</td>\n",
       "      <td>85</td>\n",
       "    </tr>\n",
       "    <tr>\n",
       "      <th>18</th>\n",
       "      <td>13</td>\n",
       "      <td>29</td>\n",
       "      <td>7</td>\n",
       "      <td>76</td>\n",
       "      <td>63</td>\n",
       "    </tr>\n",
       "    <tr>\n",
       "      <th>19</th>\n",
       "      <td>10</td>\n",
       "      <td>2</td>\n",
       "      <td>30</td>\n",
       "      <td>3</td>\n",
       "      <td>12</td>\n",
       "    </tr>\n",
       "  </tbody>\n",
       "</table>\n",
       "</div>"
      ],
      "text/plain": [
       "     B   D   C   E   A\n",
       "0   44  34  85  41  64\n",
       "1   56  64  45  95  31\n",
       "2   20  42  64  74  45\n",
       "3   15  82  43  87  81\n",
       "4   75  43  95  91  77\n",
       "5   52  87  37  87  92\n",
       "6   87  64  74  13  30\n",
       "7   78  86  56  68  36\n",
       "8   42  90  96  29  24\n",
       "9   64  11  80  12  16\n",
       "10  41  48  85  42  62\n",
       "11  20  34  56  63  85\n",
       "12  51  97  16  52  40\n",
       "13  88  12  81  48  83\n",
       "14  26  13  28  92   4\n",
       "15  68  28  19  11  59\n",
       "16  58  86  19  88  89\n",
       "17  62   8  41  33  85\n",
       "18  13  29   7  76  63\n",
       "19  10   2  30   3  12"
      ]
     },
     "execution_count": 56,
     "metadata": {},
     "output_type": "execute_result"
    }
   ],
   "source": [
    "my_df.sample(frac=1,axis=1) #sample is used to reshuffle data in dataframe..."
   ]
  },
  {
   "cell_type": "code",
   "execution_count": 57,
   "id": "203e142f",
   "metadata": {},
   "outputs": [
    {
     "data": {
      "text/html": [
       "<div>\n",
       "<style scoped>\n",
       "    .dataframe tbody tr th:only-of-type {\n",
       "        vertical-align: middle;\n",
       "    }\n",
       "\n",
       "    .dataframe tbody tr th {\n",
       "        vertical-align: top;\n",
       "    }\n",
       "\n",
       "    .dataframe thead th {\n",
       "        text-align: right;\n",
       "    }\n",
       "</style>\n",
       "<table border=\"1\" class=\"dataframe\">\n",
       "  <thead>\n",
       "    <tr style=\"text-align: right;\">\n",
       "      <th></th>\n",
       "      <th>A</th>\n",
       "      <th>B</th>\n",
       "      <th>C</th>\n",
       "      <th>D</th>\n",
       "      <th>E</th>\n",
       "    </tr>\n",
       "  </thead>\n",
       "  <tbody>\n",
       "    <tr>\n",
       "      <th>4</th>\n",
       "      <td>77</td>\n",
       "      <td>75</td>\n",
       "      <td>95</td>\n",
       "      <td>43</td>\n",
       "      <td>91</td>\n",
       "    </tr>\n",
       "    <tr>\n",
       "      <th>18</th>\n",
       "      <td>63</td>\n",
       "      <td>13</td>\n",
       "      <td>7</td>\n",
       "      <td>29</td>\n",
       "      <td>76</td>\n",
       "    </tr>\n",
       "    <tr>\n",
       "      <th>17</th>\n",
       "      <td>85</td>\n",
       "      <td>62</td>\n",
       "      <td>41</td>\n",
       "      <td>8</td>\n",
       "      <td>33</td>\n",
       "    </tr>\n",
       "    <tr>\n",
       "      <th>11</th>\n",
       "      <td>85</td>\n",
       "      <td>20</td>\n",
       "      <td>56</td>\n",
       "      <td>34</td>\n",
       "      <td>63</td>\n",
       "    </tr>\n",
       "    <tr>\n",
       "      <th>13</th>\n",
       "      <td>83</td>\n",
       "      <td>88</td>\n",
       "      <td>81</td>\n",
       "      <td>12</td>\n",
       "      <td>48</td>\n",
       "    </tr>\n",
       "    <tr>\n",
       "      <th>15</th>\n",
       "      <td>59</td>\n",
       "      <td>68</td>\n",
       "      <td>19</td>\n",
       "      <td>28</td>\n",
       "      <td>11</td>\n",
       "    </tr>\n",
       "    <tr>\n",
       "      <th>14</th>\n",
       "      <td>4</td>\n",
       "      <td>26</td>\n",
       "      <td>28</td>\n",
       "      <td>13</td>\n",
       "      <td>92</td>\n",
       "    </tr>\n",
       "    <tr>\n",
       "      <th>19</th>\n",
       "      <td>12</td>\n",
       "      <td>10</td>\n",
       "      <td>30</td>\n",
       "      <td>2</td>\n",
       "      <td>3</td>\n",
       "    </tr>\n",
       "    <tr>\n",
       "      <th>0</th>\n",
       "      <td>64</td>\n",
       "      <td>44</td>\n",
       "      <td>85</td>\n",
       "      <td>34</td>\n",
       "      <td>41</td>\n",
       "    </tr>\n",
       "    <tr>\n",
       "      <th>5</th>\n",
       "      <td>92</td>\n",
       "      <td>52</td>\n",
       "      <td>37</td>\n",
       "      <td>87</td>\n",
       "      <td>87</td>\n",
       "    </tr>\n",
       "    <tr>\n",
       "      <th>3</th>\n",
       "      <td>81</td>\n",
       "      <td>15</td>\n",
       "      <td>43</td>\n",
       "      <td>82</td>\n",
       "      <td>87</td>\n",
       "    </tr>\n",
       "    <tr>\n",
       "      <th>7</th>\n",
       "      <td>36</td>\n",
       "      <td>78</td>\n",
       "      <td>56</td>\n",
       "      <td>86</td>\n",
       "      <td>68</td>\n",
       "    </tr>\n",
       "    <tr>\n",
       "      <th>16</th>\n",
       "      <td>89</td>\n",
       "      <td>58</td>\n",
       "      <td>19</td>\n",
       "      <td>86</td>\n",
       "      <td>88</td>\n",
       "    </tr>\n",
       "    <tr>\n",
       "      <th>8</th>\n",
       "      <td>24</td>\n",
       "      <td>42</td>\n",
       "      <td>96</td>\n",
       "      <td>90</td>\n",
       "      <td>29</td>\n",
       "    </tr>\n",
       "    <tr>\n",
       "      <th>1</th>\n",
       "      <td>31</td>\n",
       "      <td>56</td>\n",
       "      <td>45</td>\n",
       "      <td>64</td>\n",
       "      <td>95</td>\n",
       "    </tr>\n",
       "    <tr>\n",
       "      <th>10</th>\n",
       "      <td>62</td>\n",
       "      <td>41</td>\n",
       "      <td>85</td>\n",
       "      <td>48</td>\n",
       "      <td>42</td>\n",
       "    </tr>\n",
       "    <tr>\n",
       "      <th>6</th>\n",
       "      <td>30</td>\n",
       "      <td>87</td>\n",
       "      <td>74</td>\n",
       "      <td>64</td>\n",
       "      <td>13</td>\n",
       "    </tr>\n",
       "    <tr>\n",
       "      <th>9</th>\n",
       "      <td>16</td>\n",
       "      <td>64</td>\n",
       "      <td>80</td>\n",
       "      <td>11</td>\n",
       "      <td>12</td>\n",
       "    </tr>\n",
       "    <tr>\n",
       "      <th>2</th>\n",
       "      <td>45</td>\n",
       "      <td>20</td>\n",
       "      <td>64</td>\n",
       "      <td>42</td>\n",
       "      <td>74</td>\n",
       "    </tr>\n",
       "    <tr>\n",
       "      <th>12</th>\n",
       "      <td>40</td>\n",
       "      <td>51</td>\n",
       "      <td>16</td>\n",
       "      <td>97</td>\n",
       "      <td>52</td>\n",
       "    </tr>\n",
       "  </tbody>\n",
       "</table>\n",
       "</div>"
      ],
      "text/plain": [
       "     A   B   C   D   E\n",
       "4   77  75  95  43  91\n",
       "18  63  13   7  29  76\n",
       "17  85  62  41   8  33\n",
       "11  85  20  56  34  63\n",
       "13  83  88  81  12  48\n",
       "15  59  68  19  28  11\n",
       "14   4  26  28  13  92\n",
       "19  12  10  30   2   3\n",
       "0   64  44  85  34  41\n",
       "5   92  52  37  87  87\n",
       "3   81  15  43  82  87\n",
       "7   36  78  56  86  68\n",
       "16  89  58  19  86  88\n",
       "8   24  42  96  90  29\n",
       "1   31  56  45  64  95\n",
       "10  62  41  85  48  42\n",
       "6   30  87  74  64  13\n",
       "9   16  64  80  11  12\n",
       "2   45  20  64  42  74\n",
       "12  40  51  16  97  52"
      ]
     },
     "execution_count": 57,
     "metadata": {},
     "output_type": "execute_result"
    }
   ],
   "source": [
    "my_df.sample(frac=1,axis=0)"
   ]
  },
  {
   "cell_type": "code",
   "execution_count": 58,
   "id": "d97da462",
   "metadata": {},
   "outputs": [
    {
     "data": {
      "text/html": [
       "<div>\n",
       "<style scoped>\n",
       "    .dataframe tbody tr th:only-of-type {\n",
       "        vertical-align: middle;\n",
       "    }\n",
       "\n",
       "    .dataframe tbody tr th {\n",
       "        vertical-align: top;\n",
       "    }\n",
       "\n",
       "    .dataframe thead th {\n",
       "        text-align: right;\n",
       "    }\n",
       "</style>\n",
       "<table border=\"1\" class=\"dataframe\">\n",
       "  <thead>\n",
       "    <tr style=\"text-align: right;\">\n",
       "      <th></th>\n",
       "      <th>D</th>\n",
       "      <th>E</th>\n",
       "    </tr>\n",
       "  </thead>\n",
       "  <tbody>\n",
       "    <tr>\n",
       "      <th>0</th>\n",
       "      <td>34</td>\n",
       "      <td>41</td>\n",
       "    </tr>\n",
       "    <tr>\n",
       "      <th>1</th>\n",
       "      <td>64</td>\n",
       "      <td>95</td>\n",
       "    </tr>\n",
       "    <tr>\n",
       "      <th>2</th>\n",
       "      <td>42</td>\n",
       "      <td>74</td>\n",
       "    </tr>\n",
       "    <tr>\n",
       "      <th>3</th>\n",
       "      <td>82</td>\n",
       "      <td>87</td>\n",
       "    </tr>\n",
       "    <tr>\n",
       "      <th>4</th>\n",
       "      <td>43</td>\n",
       "      <td>91</td>\n",
       "    </tr>\n",
       "    <tr>\n",
       "      <th>5</th>\n",
       "      <td>87</td>\n",
       "      <td>87</td>\n",
       "    </tr>\n",
       "    <tr>\n",
       "      <th>6</th>\n",
       "      <td>64</td>\n",
       "      <td>13</td>\n",
       "    </tr>\n",
       "    <tr>\n",
       "      <th>7</th>\n",
       "      <td>86</td>\n",
       "      <td>68</td>\n",
       "    </tr>\n",
       "    <tr>\n",
       "      <th>8</th>\n",
       "      <td>90</td>\n",
       "      <td>29</td>\n",
       "    </tr>\n",
       "    <tr>\n",
       "      <th>9</th>\n",
       "      <td>11</td>\n",
       "      <td>12</td>\n",
       "    </tr>\n",
       "    <tr>\n",
       "      <th>10</th>\n",
       "      <td>48</td>\n",
       "      <td>42</td>\n",
       "    </tr>\n",
       "    <tr>\n",
       "      <th>11</th>\n",
       "      <td>34</td>\n",
       "      <td>63</td>\n",
       "    </tr>\n",
       "    <tr>\n",
       "      <th>12</th>\n",
       "      <td>97</td>\n",
       "      <td>52</td>\n",
       "    </tr>\n",
       "    <tr>\n",
       "      <th>13</th>\n",
       "      <td>12</td>\n",
       "      <td>48</td>\n",
       "    </tr>\n",
       "    <tr>\n",
       "      <th>14</th>\n",
       "      <td>13</td>\n",
       "      <td>92</td>\n",
       "    </tr>\n",
       "    <tr>\n",
       "      <th>15</th>\n",
       "      <td>28</td>\n",
       "      <td>11</td>\n",
       "    </tr>\n",
       "    <tr>\n",
       "      <th>16</th>\n",
       "      <td>86</td>\n",
       "      <td>88</td>\n",
       "    </tr>\n",
       "    <tr>\n",
       "      <th>17</th>\n",
       "      <td>8</td>\n",
       "      <td>33</td>\n",
       "    </tr>\n",
       "    <tr>\n",
       "      <th>18</th>\n",
       "      <td>29</td>\n",
       "      <td>76</td>\n",
       "    </tr>\n",
       "    <tr>\n",
       "      <th>19</th>\n",
       "      <td>2</td>\n",
       "      <td>3</td>\n",
       "    </tr>\n",
       "  </tbody>\n",
       "</table>\n",
       "</div>"
      ],
      "text/plain": [
       "     D   E\n",
       "0   34  41\n",
       "1   64  95\n",
       "2   42  74\n",
       "3   82  87\n",
       "4   43  91\n",
       "5   87  87\n",
       "6   64  13\n",
       "7   86  68\n",
       "8   90  29\n",
       "9   11  12\n",
       "10  48  42\n",
       "11  34  63\n",
       "12  97  52\n",
       "13  12  48\n",
       "14  13  92\n",
       "15  28  11\n",
       "16  86  88\n",
       "17   8  33\n",
       "18  29  76\n",
       "19   2   3"
      ]
     },
     "execution_count": 58,
     "metadata": {},
     "output_type": "execute_result"
    }
   ],
   "source": [
    "my_df.sample(frac=0.5,axis=1)"
   ]
  },
  {
   "cell_type": "code",
   "execution_count": 59,
   "id": "276a6325",
   "metadata": {},
   "outputs": [
    {
     "data": {
      "text/html": [
       "<div>\n",
       "<style scoped>\n",
       "    .dataframe tbody tr th:only-of-type {\n",
       "        vertical-align: middle;\n",
       "    }\n",
       "\n",
       "    .dataframe tbody tr th {\n",
       "        vertical-align: top;\n",
       "    }\n",
       "\n",
       "    .dataframe thead th {\n",
       "        text-align: right;\n",
       "    }\n",
       "</style>\n",
       "<table border=\"1\" class=\"dataframe\">\n",
       "  <thead>\n",
       "    <tr style=\"text-align: right;\">\n",
       "      <th></th>\n",
       "      <th>A</th>\n",
       "      <th>B</th>\n",
       "      <th>C</th>\n",
       "      <th>D</th>\n",
       "      <th>E</th>\n",
       "    </tr>\n",
       "  </thead>\n",
       "  <tbody>\n",
       "    <tr>\n",
       "      <th>2</th>\n",
       "      <td>45</td>\n",
       "      <td>20</td>\n",
       "      <td>64</td>\n",
       "      <td>42</td>\n",
       "      <td>74</td>\n",
       "    </tr>\n",
       "    <tr>\n",
       "      <th>11</th>\n",
       "      <td>85</td>\n",
       "      <td>20</td>\n",
       "      <td>56</td>\n",
       "      <td>34</td>\n",
       "      <td>63</td>\n",
       "    </tr>\n",
       "    <tr>\n",
       "      <th>18</th>\n",
       "      <td>63</td>\n",
       "      <td>13</td>\n",
       "      <td>7</td>\n",
       "      <td>29</td>\n",
       "      <td>76</td>\n",
       "    </tr>\n",
       "    <tr>\n",
       "      <th>17</th>\n",
       "      <td>85</td>\n",
       "      <td>62</td>\n",
       "      <td>41</td>\n",
       "      <td>8</td>\n",
       "      <td>33</td>\n",
       "    </tr>\n",
       "    <tr>\n",
       "      <th>8</th>\n",
       "      <td>24</td>\n",
       "      <td>42</td>\n",
       "      <td>96</td>\n",
       "      <td>90</td>\n",
       "      <td>29</td>\n",
       "    </tr>\n",
       "    <tr>\n",
       "      <th>1</th>\n",
       "      <td>31</td>\n",
       "      <td>56</td>\n",
       "      <td>45</td>\n",
       "      <td>64</td>\n",
       "      <td>95</td>\n",
       "    </tr>\n",
       "    <tr>\n",
       "      <th>10</th>\n",
       "      <td>62</td>\n",
       "      <td>41</td>\n",
       "      <td>85</td>\n",
       "      <td>48</td>\n",
       "      <td>42</td>\n",
       "    </tr>\n",
       "    <tr>\n",
       "      <th>9</th>\n",
       "      <td>16</td>\n",
       "      <td>64</td>\n",
       "      <td>80</td>\n",
       "      <td>11</td>\n",
       "      <td>12</td>\n",
       "    </tr>\n",
       "    <tr>\n",
       "      <th>19</th>\n",
       "      <td>12</td>\n",
       "      <td>10</td>\n",
       "      <td>30</td>\n",
       "      <td>2</td>\n",
       "      <td>3</td>\n",
       "    </tr>\n",
       "    <tr>\n",
       "      <th>6</th>\n",
       "      <td>30</td>\n",
       "      <td>87</td>\n",
       "      <td>74</td>\n",
       "      <td>64</td>\n",
       "      <td>13</td>\n",
       "    </tr>\n",
       "  </tbody>\n",
       "</table>\n",
       "</div>"
      ],
      "text/plain": [
       "     A   B   C   D   E\n",
       "2   45  20  64  42  74\n",
       "11  85  20  56  34  63\n",
       "18  63  13   7  29  76\n",
       "17  85  62  41   8  33\n",
       "8   24  42  96  90  29\n",
       "1   31  56  45  64  95\n",
       "10  62  41  85  48  42\n",
       "9   16  64  80  11  12\n",
       "19  12  10  30   2   3\n",
       "6   30  87  74  64  13"
      ]
     },
     "execution_count": 59,
     "metadata": {},
     "output_type": "execute_result"
    }
   ],
   "source": [
    "my_df.sample(frac=0.5,axis=0)"
   ]
  },
  {
   "cell_type": "code",
   "execution_count": 60,
   "id": "308aecb7",
   "metadata": {},
   "outputs": [
    {
     "data": {
      "text/plain": [
       "array([[1, 1, 1, 1, 1],\n",
       "       [1, 0, 0, 0, 1],\n",
       "       [1, 0, 9, 0, 1],\n",
       "       [1, 0, 0, 0, 1],\n",
       "       [1, 1, 1, 1, 1]])"
      ]
     },
     "execution_count": 60,
     "metadata": {},
     "output_type": "execute_result"
    }
   ],
   "source": [
    "output = np.ones((5,5),dtype=int)\n",
    "zeros = np.zeros((3,3))\n",
    "output[1:4,1:4] = zeros\n",
    "output[2:3,2]= 9\n",
    "output"
   ]
  },
  {
   "cell_type": "markdown",
   "id": "4b6330f1",
   "metadata": {},
   "source": [
    "### How to convert numpy array to pandas DataFrame"
   ]
  },
  {
   "cell_type": "code",
   "execution_count": 69,
   "id": "7457821a",
   "metadata": {},
   "outputs": [
    {
     "data": {
      "text/html": [
       "<div>\n",
       "<style scoped>\n",
       "    .dataframe tbody tr th:only-of-type {\n",
       "        vertical-align: middle;\n",
       "    }\n",
       "\n",
       "    .dataframe tbody tr th {\n",
       "        vertical-align: top;\n",
       "    }\n",
       "\n",
       "    .dataframe thead th {\n",
       "        text-align: right;\n",
       "    }\n",
       "</style>\n",
       "<table border=\"1\" class=\"dataframe\">\n",
       "  <thead>\n",
       "    <tr style=\"text-align: right;\">\n",
       "      <th></th>\n",
       "      <th>A</th>\n",
       "      <th>B</th>\n",
       "      <th>C</th>\n",
       "    </tr>\n",
       "  </thead>\n",
       "  <tbody>\n",
       "    <tr>\n",
       "      <th>0</th>\n",
       "      <td>11</td>\n",
       "      <td>12</td>\n",
       "      <td>13</td>\n",
       "    </tr>\n",
       "    <tr>\n",
       "      <th>1</th>\n",
       "      <td>21</td>\n",
       "      <td>22</td>\n",
       "      <td>23</td>\n",
       "    </tr>\n",
       "  </tbody>\n",
       "</table>\n",
       "</div>"
      ],
      "text/plain": [
       "    A   B   C\n",
       "0  11  12  13\n",
       "1  21  22  23"
      ]
     },
     "execution_count": 69,
     "metadata": {},
     "output_type": "execute_result"
    }
   ],
   "source": [
    "import pandas as pd\n",
    "\n",
    "a = np.array([[11,12,13],[21,22,23]])\n",
    "\n",
    "df = pd.DataFrame(a,columns=[\"A\",\"B\",\"C\"])\n",
    "df"
   ]
  },
  {
   "cell_type": "markdown",
   "id": "3ffd8dd8",
   "metadata": {},
   "source": [
    "### How to read csv in numpy"
   ]
  },
  {
   "cell_type": "code",
   "execution_count": 70,
   "id": "c7dd9e25",
   "metadata": {},
   "outputs": [
    {
     "data": {
      "text/plain": [
       "array([['CustomerID', 'Gender', 'Age', 'Annual Income (k$)',\n",
       "        'Spending Score (1-100)'],\n",
       "       ['1', 'Male', '19', '15', '39'],\n",
       "       ['2', 'Male', '21', '15', '81'],\n",
       "       ...,\n",
       "       ['198', 'Male', '32', '126', '74'],\n",
       "       ['199', 'Male', '32', '137', '18'],\n",
       "       ['200', 'Male', '30', '137', '83']], dtype='<U22')"
      ]
     },
     "execution_count": 70,
     "metadata": {},
     "output_type": "execute_result"
    }
   ],
   "source": [
    "data = np.loadtxt(r\"C:\\Users\\Gayu Magar\\Downloads\\Mall_Customers.csv\",delimiter=',',dtype = str)\n",
    "data"
   ]
  },
  {
   "cell_type": "code",
   "execution_count": 71,
   "id": "6335d1d2",
   "metadata": {},
   "outputs": [
    {
     "data": {
      "text/html": [
       "<div>\n",
       "<style scoped>\n",
       "    .dataframe tbody tr th:only-of-type {\n",
       "        vertical-align: middle;\n",
       "    }\n",
       "\n",
       "    .dataframe tbody tr th {\n",
       "        vertical-align: top;\n",
       "    }\n",
       "\n",
       "    .dataframe thead th {\n",
       "        text-align: right;\n",
       "    }\n",
       "</style>\n",
       "<table border=\"1\" class=\"dataframe\">\n",
       "  <thead>\n",
       "    <tr style=\"text-align: right;\">\n",
       "      <th></th>\n",
       "      <th>0</th>\n",
       "      <th>1</th>\n",
       "      <th>2</th>\n",
       "      <th>3</th>\n",
       "      <th>4</th>\n",
       "    </tr>\n",
       "  </thead>\n",
       "  <tbody>\n",
       "    <tr>\n",
       "      <th>0</th>\n",
       "      <td>CustomerID</td>\n",
       "      <td>Gender</td>\n",
       "      <td>Age</td>\n",
       "      <td>Annual Income (k$)</td>\n",
       "      <td>Spending Score (1-100)</td>\n",
       "    </tr>\n",
       "    <tr>\n",
       "      <th>1</th>\n",
       "      <td>1</td>\n",
       "      <td>Male</td>\n",
       "      <td>19</td>\n",
       "      <td>15</td>\n",
       "      <td>39</td>\n",
       "    </tr>\n",
       "    <tr>\n",
       "      <th>2</th>\n",
       "      <td>2</td>\n",
       "      <td>Male</td>\n",
       "      <td>21</td>\n",
       "      <td>15</td>\n",
       "      <td>81</td>\n",
       "    </tr>\n",
       "    <tr>\n",
       "      <th>3</th>\n",
       "      <td>3</td>\n",
       "      <td>Female</td>\n",
       "      <td>20</td>\n",
       "      <td>16</td>\n",
       "      <td>6</td>\n",
       "    </tr>\n",
       "    <tr>\n",
       "      <th>4</th>\n",
       "      <td>4</td>\n",
       "      <td>Female</td>\n",
       "      <td>23</td>\n",
       "      <td>16</td>\n",
       "      <td>77</td>\n",
       "    </tr>\n",
       "    <tr>\n",
       "      <th>5</th>\n",
       "      <td>5</td>\n",
       "      <td>Female</td>\n",
       "      <td>31</td>\n",
       "      <td>17</td>\n",
       "      <td>40</td>\n",
       "    </tr>\n",
       "    <tr>\n",
       "      <th>6</th>\n",
       "      <td>6</td>\n",
       "      <td>Female</td>\n",
       "      <td>22</td>\n",
       "      <td>17</td>\n",
       "      <td>76</td>\n",
       "    </tr>\n",
       "    <tr>\n",
       "      <th>7</th>\n",
       "      <td>7</td>\n",
       "      <td>Female</td>\n",
       "      <td>35</td>\n",
       "      <td>18</td>\n",
       "      <td>6</td>\n",
       "    </tr>\n",
       "    <tr>\n",
       "      <th>8</th>\n",
       "      <td>8</td>\n",
       "      <td>Female</td>\n",
       "      <td>23</td>\n",
       "      <td>18</td>\n",
       "      <td>94</td>\n",
       "    </tr>\n",
       "    <tr>\n",
       "      <th>9</th>\n",
       "      <td>9</td>\n",
       "      <td>Male</td>\n",
       "      <td>64</td>\n",
       "      <td>19</td>\n",
       "      <td>3</td>\n",
       "    </tr>\n",
       "  </tbody>\n",
       "</table>\n",
       "</div>"
      ],
      "text/plain": [
       "            0       1    2                   3                       4\n",
       "0  CustomerID  Gender  Age  Annual Income (k$)  Spending Score (1-100)\n",
       "1           1    Male   19                  15                      39\n",
       "2           2    Male   21                  15                      81\n",
       "3           3  Female   20                  16                       6\n",
       "4           4  Female   23                  16                      77\n",
       "5           5  Female   31                  17                      40\n",
       "6           6  Female   22                  17                      76\n",
       "7           7  Female   35                  18                       6\n",
       "8           8  Female   23                  18                      94\n",
       "9           9    Male   64                  19                       3"
      ]
     },
     "execution_count": 71,
     "metadata": {},
     "output_type": "execute_result"
    }
   ],
   "source": [
    "df = pd.DataFrame(data)\n",
    "df.head(10)"
   ]
  },
  {
   "cell_type": "code",
   "execution_count": null,
   "id": "975898e9",
   "metadata": {},
   "outputs": [],
   "source": []
  }
 ],
 "metadata": {
  "kernelspec": {
   "display_name": "Python 3 (ipykernel)",
   "language": "python",
   "name": "python3"
  },
  "language_info": {
   "codemirror_mode": {
    "name": "ipython",
    "version": 3
   },
   "file_extension": ".py",
   "mimetype": "text/x-python",
   "name": "python",
   "nbconvert_exporter": "python",
   "pygments_lexer": "ipython3",
   "version": "3.9.12"
  }
 },
 "nbformat": 4,
 "nbformat_minor": 5
}
